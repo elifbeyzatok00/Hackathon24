{
  "nbformat": 4,
  "nbformat_minor": 0,
  "metadata": {
    "colab": {
      "provenance": []
    },
    "kernelspec": {
      "name": "python3",
      "display_name": "Python 3"
    },
    "language_info": {
      "name": "python"
    }
  },
  "cells": [
    {
      "cell_type": "markdown",
      "source": [
        "# Step 1: Set and import model, libraries etc."
      ],
      "metadata": {
        "id": "dH6pdCd_fS69"
      }
    },
    {
      "cell_type": "code",
      "execution_count": 2,
      "metadata": {
        "id": "vXutrHSSzI-1"
      },
      "outputs": [],
      "source": [
        "!pip install -q -U google-generativeai"
      ]
    },
    {
      "cell_type": "code",
      "source": [
        "import google.generativeai as genai\n",
        "from google.colab import userdata\n",
        "\n",
        "GEMINI_API_KEY = userdata.get(\"GEMINI_API_KEY\")\n",
        "genai.configure(api_key=GEMINI_API_KEY)"
      ],
      "metadata": {
        "id": "ZBGPXkQTzQ09"
      },
      "execution_count": 3,
      "outputs": []
    },
    {
      "cell_type": "code",
      "source": [
        "model = genai.GenerativeModel(\"gemini-1.5-flash\")"
      ],
      "metadata": {
        "id": "RYdrI3s6zl35"
      },
      "execution_count": 4,
      "outputs": []
    },
    {
      "cell_type": "code",
      "source": [
        "import pathlib\n",
        "import textwrap\n",
        "\n",
        "import google.generativeai as genai\n",
        "\n",
        "from IPython.display import display\n",
        "from IPython.display import Markdown\n",
        "\n",
        "\n",
        "def to_markdown(text):\n",
        "    text = text.replace(\"•\", \"  *\")\n",
        "    return Markdown(textwrap.indent(text, \"> \", predicate=lambda _: True))"
      ],
      "metadata": {
        "id": "bxiz-3XO2Oy2"
      },
      "execution_count": 5,
      "outputs": []
    },
    {
      "cell_type": "markdown",
      "source": [
        "# Step2: generate a TOEFL Reading text\n",
        "\n",
        "        - Take a {topic} from user.\n",
        "        - Use the {topic} to generate a TOEFL Reading text.\n",
        "        - save the generated TOEFL Reading text as {generated_text}"
      ],
      "metadata": {
        "id": "rr65qFEg4swE"
      }
    },
    {
      "cell_type": "code",
      "source": [
        "%%time\n",
        "topic = input(\"Please enter a topic: \")\n",
        "prompt = f\"\"\"\n",
        "Create a 700-word academic text in the style of a TOEFL iBT Reading passage on the topic of “{topic}.” The text should resemble college-level introductory texts or academic articles, written in a clear, formal, and accessible manner suitable for comprehension testing by advanced English learners. Please ensure the text follows the format of TOEFL passages by including:\n",
        "\n",
        "- **A single main title with no subtitles** in the text.\n",
        "\n",
        "- A well-organized structure that could follow one of these types, depending on the topic:\n",
        "  - **Exposition:** Offering clear, objective explanations of key concepts, terms, and developments.\n",
        "  - **Argumentation:** Presenting multiple perspectives on a topic or issue, contrasting viewpoints or debating positions.\n",
        "  - **Historical:** Tracing the evolution or development of the topic, highlighting major events, figures, or turning points.\n",
        "\n",
        "The language should be formal and objective, using minimal technical jargon. The content should be understandable to readers unfamiliar with the topic. Additionally, organize the information using classification, comparison/contrast, cause/effect, or problem/solution structures as relevant.\n",
        "\n",
        "### Sample 1:\n",
        "topic: The rise of Teotihuacán was driven by its strategic location, abundant obsidian resources, and skilled elite, which together fostered economic growth, population influx, and religious influence across Mesoamerica.\n",
        "text: The Rise of Teotihuacán\n",
        "The city of Teotihuacán, which lay about 50 kilometers northeast of modern-day Mexico City, began its growth by 200–100 B.C. At its height, between about A.D. 150 and 700, it probably had a population of more than 125,000 people and covered at least 20 square kilometers. It had over 2,000 apartment complexes, a great market, a large number of industrial workshops, an administrative center, a number of massive religious edifices, and a regular grid pattern of streets and buildings. Clearly, much planning and central control were involved in the expansion and ordering of this great metropolis. Moreover, the city had economic and perhaps religious contacts with most parts of Mesoamerica (modern Central America and Mexico).\n",
        "How did this tremendous development take place, and why did it happen in the Teotihuacán Valley? Among the main factors are Teotihuacán’s geographic location on a natural trade route to the south and east of the Valley of Mexico, the obsidian resources in the Teotihuacán Valley itself, and the valley’s potential for extensive irrigation. The exact role of other factors is much more difficult to pinpoint—for instance, Teotihuacán’s religious significance as a shrine, the historical situation in and around the Valley of Mexico toward the end of the first millennium B.C., the ingenuity and foresightedness of Teotihuacán’s elite, and, finally, the impact of natural disasters, such as the volcanic eruptions of the late first millennium B.C.\n",
        "This last factor is at least circumstantially implicated in Teotihuacán’s rise. Prior to 200 B.C., a number of relatively small centers coexisted in and near the Valley of Mexico. Around this time, the largest of these centers, Cuicuilco, was seriously affected by a volcanic eruption, with much of its agricultural land covered by lava. With Cuicuilco eliminated as a potential rival, any one of a number of relatively modest towns might have emerged as a leading economic and political power in Central Mexico. The archaeological evidence clearly indicates, though, that Teotihuacán was the center that did arise as the predominant force in the area by the first century A.D.\n",
        "It seems likely that Teotihuacán’s natural resources—along with the city elite’s ability to recognize their potential—gave the city a competitive edge over its neighbors. The valley, like many other places in Mexican and Guatemalan highlands, was rich in obsidian. The hard volcanic stone was a resource that had been in great demand for many years, at least since the rise of the Olmecs (a people who flourished between 1200 and 400 B.C.), and it apparently had a secure market. Moreover, recent research on obsidian tools found at Olmec sites has shown that some of the obsidian obtained by the Olmecs originated near Teotihuacán. Teotihuacán obsidian must have been recognized as a valuable commodity for many centuries before the great city arose.\n",
        "Long-distance trade in obsidian probably gave the elite residents of Teotihuacán access to a wide variety of exotic goods, as well as a relatively prosperous life. Such success may have attracted immigrants to Teotihuacán. In addition, Teotihuacán’s elite may have consciously attempted to attract new inhabitants. It is also probable that as early as 200 B.C. Teotihuacán may have achieved some religious significance and its shrine (or shrines) may have served as an additional population magnet. Finally, the growing population was probably fed by increasing the number and size of irrigated fields.\n",
        "The picture of Teotihuacán that emerges is a classic picture of positive feedback among obsidian mining and working, trade, population growth, irrigation, and religious tourism. The thriving obsidian operation, for example, would necessitate more miners, additional manufacturers of obsidian tools, and additional traders to carry the goods to new markets. All this led to increased wealth, which in turn would attract more immigrants to Teotihuacán. The growing power of the elite, who controlled the economy, would give them the means to physically coerce people to move to Teotihuacán and serve as additions to the labor force. More irrigation works would have to be built to feed the growing population, and this resulted in more power and wealth for the elite.\n",
        "\n",
        "### Sample 2:\n",
        "topic: The extinction of the dinosaurs is believed to have been caused by a massive asteroid impact that drastically altered Earth’s climate and disrupted the food chain, leading to their rapid demise.\n",
        "text: Extinction of the Dinosaurs\n",
        "Paleontologists have argued for a long time that the demise of the dinosaurs was caused by climatic alterations associated with slow changes in the positions of continents and seas resulting from plate tectonics. Off and on throughout the Cretaceous (the last period of the Mesozoic era, during which dinosaurs flourished), large shallow seas covered extensive areas of the continents. Data from diverse sources, including geochemical evidence preserved in seafloor sediments, indicate that the Late Cretaceous climate was milder than today’s. The days were not too hot, nor the nights too cold. The summers were not too warm, nor the winters too frigid. The shallow seas on the continents probably buffered the temperature of the nearby air, keeping it relatively constant.\n",
        "At the end of the Cretaceous, the geological record shows that these seaways retreated from the continents back into the major ocean basins. No one knows why. Over a period of about 100,000 years, while the seas pulled back, climates around the world became dramatically more extreme: warmer days, cooler nights; hotter summers, colder winters. Perhaps dinosaurs could not tolerate these extreme temperature changes and became extinct.\n",
        "If true, though, why did cold-blooded animals such as snakes, lizards, turtles, and crocodiles survive the freezing winters and torrid summers? These animals are at the mercy of the climate to maintain a livable body temperature. It’s hard to understand why they would not be affected, whereas dinosaurs were left too crippled to cope, especially if, as some scientists believe, dinosaurs were warm-blooded. Critics also point out that the shallow seaways had retreated from and advanced on the continents numerous times during the Mesozoic, so why did the dinosaurs survive the climatic changes associated with the earlier fluctuations but not with this one? Although initially appealing, the hypothesis of a simple climatic change related to sea levels is insufficient to explain all the data.\n",
        "Dissatisfaction with conventional explanations for dinosaur extinctions led to a surprising observation that, in turn, has suggested a new hypothesis. Many plants and animals disappear abruptly from the fossil record as one moves from layers of rock documenting the end of the Cretaceous up into rocks representing the beginning of the Cenozoic (the era after the Mesozoic). Between the last layer of Cretaceous rock and the first layer of Cenozoic rock, there is often a thin layer of clay. Scientists felt that they could get an idea of how long the extinctions took by determining how long it took to deposit this one centimeter of clay and they thought they could determine the time it took to deposit the clay by determining the amount of the element iridium (Ir) it contained.\n",
        "Ir has not been common at Earth’s surface since the very beginning of the planet’s history. Because it usually exists in a metallic state, it was preferentially incorporated in Earth’s core as the planet cooled and consolidated. Ir is found in high concentrations in some meteorites, in which the solar system’s original chemical composition is preserved. Even today, microscopic meteorites continually bombard Earth, falling on both land and sea. By measuring how many of these meteorites fall to Earth over a given period of time, scientists can estimate how long it might have taken to deposit the observed amount of Ir in the boundary clay. These calculations suggest that a period of about one million years would have been required. However, other reliable evidence suggests that the deposition of the boundary clay could not have taken one million years. So the unusually high concentration of Ir seems to require a special explanation.\n",
        "In view of these facts, scientists hypothesized that a single large asteroid, about 10 to 15 kilometers across, collided with Earth, and the resulting fallout created the boundary clay. Their calculations show that the impact kicked up a dust cloud that cut off sunlight for several months, inhibiting photosynthesis in plants; decreased surface temperatures on continents to below freezing; caused extreme episodes of acid rain; and significantly raised long-term global temperatures through the greenhouse effect. This disruption of the food chain and climate would have eradicated the dinosaurs and other organisms in less than fifty years.\n",
        "\n",
        "### Sample 3:\n",
        "topic: {topic}\n",
        "text:\n",
        "\"\"\"\n",
        "generated_content = model.generate_content(prompt)\n",
        "generated_text = generated_content.text\n",
        "to_markdown(generated_text)"
      ],
      "metadata": {
        "colab": {
          "base_uri": "https://localhost:8080/",
          "height": 1000
        },
        "id": "7xoYR3hQgiZq",
        "outputId": "678bee75-474a-443d-96c6-d6762df02b8e"
      },
      "execution_count": 6,
      "outputs": [
        {
          "output_type": "stream",
          "name": "stdout",
          "text": [
            "Please enter a topic: Ottoman\n",
            "CPU times: user 247 ms, sys: 24.3 ms, total: 272 ms\n",
            "Wall time: 11.1 s\n"
          ]
        },
        {
          "output_type": "execute_result",
          "data": {
            "text/plain": [
              "<IPython.core.display.Markdown object>"
            ],
            "text/markdown": "> ## The Ottoman Empire: A Legacy of Power and Change\n> \n> The Ottoman Empire, a formidable power that dominated much of the eastern Mediterranean and North Africa for centuries, left an indelible mark on history. Its vast geographical reach, diverse population, and enduring cultural legacy continue to fascinate and inspire scholars and historians alike. This essay will delve into the origins, rise, and eventual decline of the Ottoman Empire, examining key factors that shaped its unique character and legacy.\n> \n> Emerging in the 13th century in Anatolia, the Ottoman Empire gradually expanded its territory through a combination of military prowess and strategic alliances. The empire's founding was closely linked to the Turkic tribes of Central Asia, who migrated westward and established themselves in Anatolia, a region previously held by the Byzantine Empire. The Ottomans were adept at harnessing the talents and skills of their diverse subjects, incorporating various cultures and traditions into their own. This process of assimilation and integration, facilitated by a flexible administrative system, played a crucial role in the empire's success.\n> \n> The Ottomans, known for their skilled cavalry and innovative military tactics, were able to conquer vast territories, including the Balkans, North Africa, and parts of the Middle East. Their victories over formidable opponents, such as the Byzantines at the Battle of Kosovo in 1389 and the Mamluks of Egypt at the Battle of Marj Dabiq in 1516, established them as a dominant force in the region. These military achievements, coupled with the expansion of trade routes and the development of a flourishing economy, contributed to the empire's rise to prominence.\n> \n> The Ottoman Empire's political and social structure was marked by a complex system of governance. The Sultan, the supreme ruler, held absolute authority, wielding power over both religious and secular affairs. The Empire's administration, known as the \"Millet-System,\" allowed for the autonomy of different religious communities, including Muslims, Christians, and Jews, who were granted the right to govern their own internal affairs. This system, while not without its limitations, facilitated the coexistence of diverse populations within the empire.\n> \n> The Ottoman Empire was not only a military and political force but also a center of intellectual and artistic activity. The empire's rich architectural heritage, exemplified by the Hagia Sophia and the Süleymaniye Mosque in Istanbul, testifies to the skill and artistry of Ottoman architects and engineers. The patronage of arts and sciences by Ottoman rulers led to significant advances in fields such as mathematics, astronomy, and medicine. The Empire's cultural contributions, particularly in the fields of music, poetry, and calligraphy, left a lasting impact on the cultural landscape of the region.\n> \n> However, the Ottoman Empire's decline in the 18th and 19th centuries was a complex and multifaceted process. The empire faced numerous challenges, including internal strife, economic stagnation, and the rise of European powers seeking to expand their influence in the region. The weakening of the Ottoman military, the growth of nationalism among its diverse populations, and the emergence of new technological advancements in Europe all contributed to the empire's decline.\n> \n> The Ottoman Empire eventually fell in the aftermath of World War I, succumbing to internal pressures and external forces. The Treaty of Lausanne in 1923 formally dissolved the empire, leading to the creation of the modern Republic of Turkey. Despite its decline, the Ottoman Empire's legacy continues to shape the political, social, and cultural landscapes of the region. Its diverse heritage, complex administrative systems, and rich cultural contributions continue to be studied and appreciated by scholars and historians alike. \n> \n> The Ottoman Empire stands as a testament to the dynamism and complexity of history. Its story is one of power, resilience, and ultimately, change. While the empire's dominance waned, its legacy remains a potent reminder of its enduring influence on the world stage. \n"
          },
          "metadata": {},
          "execution_count": 6
        }
      ]
    },
    {
      "cell_type": "markdown",
      "source": [
        "#Step 3: Generate Questions\n",
        "\n",
        "    - Take amount of the question types as {question_types_count} from user.\n",
        "\t- Fine tune Gemini-1.5 model with Question-Type dataset on Google AI Studio\n",
        "    - Use the {generated_text},  {question_types_count} and {fine_tuned_gemini} to generate 10 TOEFL Reading Questions.\n",
        "    - save the generated 10 TOEFL Reading Questions as {generated_questions}"
      ],
      "metadata": {
        "id": "l2xeLGHviRXl"
      }
    },
    {
      "cell_type": "markdown",
      "source": [
        "There are 10 types in TOEFL Reading Question Types.\n",
        "\n",
        "\t  Basic Information and Inferencing questions:\n",
        " \t\t\t1. Factual Information questions (2 to 5 questions per set)\n",
        " \t\t\t2. Negative Factual Information questions (0 to 2 questions per set)\n",
        " \t\t\t3. Inference questions (1 to 2 questions per set)\n",
        " \t\t\t4. Rhetorical Purpose questions (1 to 2 questions per set)\n",
        " \t\t\t5. Vocabulary questions (1 to 2 questions per set)\n",
        " \t\t\t6. Reference questions (0 to 2 questions per set)\n",
        " \t\t\t7. Sentence Simplification question (0 or 1 question per set)\n",
        " \t\t\t8. Insert Text question (1 question per set)\n",
        " \t\tReading to Learn questions (1 per set):\n",
        "\t\t\t9. Prose Summary\n",
        " \t\t  10. Fill in a Table"
      ],
      "metadata": {
        "id": "1GqG4LrosXrk"
      }
    },
    {
      "cell_type": "markdown",
      "source": [
        "### Take amount of the question types"
      ],
      "metadata": {
        "id": "4Apj7MRZK3jD"
      }
    },
    {
      "cell_type": "code",
      "source": [
        "# Initialize counters and remaining questions\n",
        "counter = 0\n",
        "number_of_remaining_questions = 10\n",
        "\n",
        "# Fixed question\n",
        "insert_text_question = 1\n",
        "counter += insert_text_question\n",
        "number_of_remaining_questions -= insert_text_question\n",
        "\n",
        "# Prose Summary or Fill in a Table\n",
        "prose_summary, fill_in_a_table = 0, 0\n",
        "prose_summary_OR_fill_in_a_table = input(f\"(Number of remaining questions {number_of_remaining_questions}.) Prose Summary or Fill in a Table question (only one of the two question types for each set). Please write either 'p' for Prose Summary or 'f' for Fill in a Table: \")\n",
        "if prose_summary_OR_fill_in_a_table == \"p\":\n",
        "    prose_summary = 1\n",
        "    fill_in_a_table = 0\n",
        "elif prose_summary_OR_fill_in_a_table == \"f\":\n",
        "    prose_summary = 0\n",
        "    fill_in_a_table = 1\n",
        "counter += prose_summary + fill_in_a_table\n",
        "number_of_remaining_questions -= 1\n",
        "\n",
        "# Collect and validate input for each question type\n",
        "factual_information_questions = int(input(f\"(Number of remaining questions {number_of_remaining_questions}.) Factual Information questions (2 to 5 questions per set). Please write a number from 2 to 5: \"))\n",
        "counter += factual_information_questions\n",
        "number_of_remaining_questions -= factual_information_questions\n",
        "\n",
        "negative_factual_information_questions = int(input(f\"(Number of remaining questions {number_of_remaining_questions}.) Negative Factual Information questions (0 to 2 questions per set). Please write a number from 0 to 2: \"))\n",
        "counter += negative_factual_information_questions\n",
        "number_of_remaining_questions -= negative_factual_information_questions\n",
        "\n",
        "inference_questions = int(input(f\"(Number of remaining questions {number_of_remaining_questions}.) Inference questions (1 to 2 questions per set). Please write a number from 1 to 2: \"))\n",
        "counter += inference_questions\n",
        "number_of_remaining_questions -= inference_questions\n",
        "\n",
        "rhetorical_purpose_questions = int(input(f\"(Number of remaining questions {number_of_remaining_questions}.) Rhetorical Purpose questions (1 to 2 questions per set). Please write a number from 1 to 2: \"))\n",
        "counter += rhetorical_purpose_questions\n",
        "number_of_remaining_questions -= rhetorical_purpose_questions\n",
        "\n",
        "vocabulary_questions = int(input(f\"(Number of remaining questions {number_of_remaining_questions}.) Vocabulary questions (1 to 2 questions per set). Please write a number from 1 to 2: \"))\n",
        "counter += vocabulary_questions\n",
        "number_of_remaining_questions -= vocabulary_questions\n",
        "\n",
        "reference_questions = int(input(f\"(Number of remaining questions {number_of_remaining_questions}.) Reference questions (0 to 2 questions per set). Please write a number from 0 to 2: \"))\n",
        "counter += reference_questions\n",
        "number_of_remaining_questions -= reference_questions\n",
        "\n",
        "sentence_simplification_question = int(input(f\"(Number of remaining questions {number_of_remaining_questions}.) Sentence Simplification question (0 or 1 question per set). Please write a number from 0 to 1: \"))\n",
        "counter += sentence_simplification_question\n",
        "number_of_remaining_questions -= sentence_simplification_question\n",
        "\n",
        "\n",
        "# Validate total question count\n",
        "if counter == 10:\n",
        "    question_types_count = {\n",
        "        \"Factual Information\": factual_information_questions,\n",
        "        \"Negative Factual Information\": negative_factual_information_questions,\n",
        "        \"Inference\": inference_questions,\n",
        "        \"Rhetorical Purpose\": rhetorical_purpose_questions,\n",
        "        \"Vocabulary\": vocabulary_questions,\n",
        "        \"Reference\": reference_questions,\n",
        "        \"Sentence Simplification\": sentence_simplification_question,\n",
        "        \"Insert Text\": insert_text_question,\n",
        "        \"Prose Summary\": prose_summary,\n",
        "        \"Fill in a Table\": fill_in_a_table\n",
        "    }\n",
        "    print(\"Question types and counts:\", question_types_count)\n",
        "else:\n",
        "    print(f\"Total question count must be 10. But you chose {counter}. Please revise your choices to reach a total of 10 questions.\")\n"
      ],
      "metadata": {
        "id": "oe5DhKT0ilx_",
        "colab": {
          "base_uri": "https://localhost:8080/"
        },
        "outputId": "a475bdc3-ee34-4c3f-9417-058d65f8f157"
      },
      "execution_count": 7,
      "outputs": [
        {
          "output_type": "stream",
          "name": "stdout",
          "text": [
            "(Number of remaining questions 9.) Prose Summary or Fill in a Table question (only one of the two question types for each set). Please write either 'p' for Prose Summary or 'f' for Fill in a Table: p\n",
            "(Number of remaining questions 8.) Factual Information questions (2 to 5 questions per set). Please write a number from 2 to 5: 2\n",
            "(Number of remaining questions 6.) Negative Factual Information questions (0 to 2 questions per set). Please write a number from 0 to 2: 1\n",
            "(Number of remaining questions 5.) Inference questions (1 to 2 questions per set). Please write a number from 1 to 2: 1\n",
            "(Number of remaining questions 4.) Rhetorical Purpose questions (1 to 2 questions per set). Please write a number from 1 to 2: 1\n",
            "(Number of remaining questions 3.) Vocabulary questions (1 to 2 questions per set). Please write a number from 1 to 2: 1\n",
            "(Number of remaining questions 2.) Reference questions (0 to 2 questions per set). Please write a number from 0 to 2: 1\n",
            "(Number of remaining questions 1.) Sentence Simplification question (0 or 1 question per set). Please write a number from 0 to 1: 1\n",
            "Question types and counts: {'Factual Information': 2, 'Negative Factual Information': 1, 'Inference': 1, 'Rhetorical Purpose': 1, 'Vocabulary': 1, 'Reference': 1, 'Sentence Simplification': 1, 'Insert Text': 1, 'Prose Summary': 1, 'Fill in a Table': 0}\n"
          ]
        }
      ]
    },
    {
      "cell_type": "markdown",
      "source": [
        "### Fine tune Gemini-1.5 model with Question-Type dataset on Google AI Studio"
      ],
      "metadata": {
        "id": "DnMbur94LDo1"
      }
    },
    {
      "cell_type": "code",
      "source": [
        "model2 = genai.GenerativeModel(\"tunedModels/questiontypes-7d11kgbmme63\")"
      ],
      "metadata": {
        "id": "wKKSiMdRvOy6"
      },
      "execution_count": 10,
      "outputs": []
    },
    {
      "cell_type": "code",
      "source": [
        "%%time\n",
        "\n",
        "prompt2 = f\"\"\"\n",
        "Use the {generated_text} and the specified {question_types_count} to generate 10 TOEFL Reading Questions.\n",
        "\n",
        "### Sample:\n",
        "text:\n",
        "THE ORIGINS OF CETACEANS\n",
        "It should be obvious that cetaceans—whales, porpoises, and dolphins—are mammals...\n",
        "...\n",
        "(This sample text can continue for any necessary context in the same format as you had above)\n",
        "\n",
        "question_types_count:\n",
        "{question_types_count}\n",
        "\n",
        "questions:\n",
        " 1. Which of the following can be inferred from paragraph 1 about early sea otters?\n",
        " A  It is not difficult to imagine what they looked like.\n",
        " B There were great numbers of them.\n",
        " C They lived in the sea only.\n",
        " D They did not leave many fossil remains.\n",
        "\n",
        "...\n",
        "(Make sure this continues with all the questions you’d like as part of the sample for formatting guidance)\n",
        "\n",
        "Output:\n",
        "text: {generated_text}\n",
        "question_types_count: {question_types_count}\n",
        "questions:\n",
        "\n",
        "\"\"\"\n",
        "\n",
        "response = model2.generate_content(prompt2)\n",
        "generated_questions = response.text\n",
        "to_markdown(generated_questions)\n"
      ],
      "metadata": {
        "colab": {
          "base_uri": "https://localhost:8080/",
          "height": 97
        },
        "id": "bwIQgVZqJ_fT",
        "outputId": "83713d00-e9cb-4635-88ec-433ef77f5a50"
      },
      "execution_count": 22,
      "outputs": [
        {
          "output_type": "stream",
          "name": "stdout",
          "text": [
            "CPU times: user 50 ms, sys: 5.76 ms, total: 55.8 ms\n",
            "Wall time: 2.47 s\n"
          ]
        },
        {
          "output_type": "execute_result",
          "data": {
            "text/plain": [
              "<IPython.core.display.Markdown object>"
            ],
            "text/markdown": "> Inference Question"
          },
          "metadata": {},
          "execution_count": 22
        }
      ]
    },
    {
      "cell_type": "markdown",
      "source": [
        "! model2 = tunedModels/questiontypes-7d11kgbmme63 başarısız oldu.\n",
        "\n",
        "Bu nedenle model = genai.GenerativeModel(\"gemini-1.5-flash\") ile Question Generation yapıldı."
      ],
      "metadata": {
        "id": "ZmYIxHSKZucT"
      }
    },
    {
      "cell_type": "code",
      "source": [
        "%%time\n",
        "\n",
        "prompt2 = f\"\"\"\n",
        "Use the {generated_text} and the specified {question_types_count} to generate 10 TOEFL Reading Questions.\n",
        "\n",
        "### Sample:\n",
        "text:\n",
        "THE ORIGINS OF CETACEANS\n",
        "It should be obvious that cetaceans—whales, porpoises, and dolphins—are mammals...\n",
        "...\n",
        "(This sample text can continue for any necessary context in the same format as you had above)\n",
        "\n",
        "question_types_count:\n",
        "{question_types_count}\n",
        "\n",
        "questions:\n",
        " 1. Which of the following can be inferred from paragraph 1 about early sea otters?\n",
        " A  It is not difficult to imagine what they looked like.\n",
        " B There were great numbers of them.\n",
        " C They lived in the sea only.\n",
        " D They did not leave many fossil remains.\n",
        "\n",
        "...\n",
        "(Make sure this continues with all the questions you’d like as part of the sample for formatting guidance)\n",
        "\n",
        "Output:\n",
        "text: {generated_text}\n",
        "question_types_count: {question_types_count}\n",
        "questions:\n",
        "\n",
        "\"\"\"\n",
        "\n",
        "response = model.generate_content(prompt2)\n",
        "generated_questions = response.text\n",
        "to_markdown(generated_questions)\n"
      ],
      "metadata": {
        "colab": {
          "base_uri": "https://localhost:8080/",
          "height": 1000
        },
        "id": "DxmwltN6YjIe",
        "outputId": "4f31fe3c-a6eb-4625-a971-50e77f79d66d"
      },
      "execution_count": 27,
      "outputs": [
        {
          "output_type": "stream",
          "name": "stdout",
          "text": [
            "CPU times: user 105 ms, sys: 9.56 ms, total: 115 ms\n",
            "Wall time: 5.64 s\n"
          ]
        },
        {
          "output_type": "execute_result",
          "data": {
            "text/plain": [
              "<IPython.core.display.Markdown object>"
            ],
            "text/markdown": "> ## TOEFL Reading Questions:\n> \n> **1. Factual Information:** Which of the following is NOT a factor that contributed to the Ottoman Empire's decline in the 18th and 19th centuries?\n>    A. Internal strife\n>    B. Economic prosperity\n>    C. Rise of European powers\n>    D. Weakening of the Ottoman military\n> \n> **2. Factual Information:**  The Ottoman Empire's \"Millet-System\" is best described as:\n>     A. A system of strict religious uniformity enforced by the Sultan.\n>     B. A system of centralized governance that controlled all aspects of life.\n>     C. A system allowing religious communities autonomy in their internal affairs.\n>     D. A system that prioritized military prowess over cultural diversity.\n> \n> **3. Negative Factual Information:** The Ottoman Empire's administrative system was NOT:\n>      A. Flexible\n>      B.  Based on strict religious laws\n>      C.  Effective in integrating diverse populations \n>      D.  Crucial to the Empire's success\n> \n> **4. Inference:** What can be inferred about the Ottoman Empire's cultural contributions?\n>     A. They were limited to the realm of architecture.\n>     B. They had a lasting impact on the region's cultural landscape.\n>     C. They were overshadowed by the empire's military achievements.\n>     D. They were solely focused on promoting Islamic arts and sciences.\n> \n> **5. Rhetorical Purpose:** What is the primary purpose of the third paragraph of the passage?\n>     A. To explain the origins of the Ottoman Empire.\n>     B. To highlight the role of military prowess in the empire's rise.\n>     C. To describe the Ottoman Empire's political structure.\n>     D. To analyze the reasons for the empire's decline.\n> \n> **6. Vocabulary:**  In the context of the passage, what does the word \"indelible\" mean? \n>     A.  Temporary\n>     B.  Changeable\n>     C.  Permanent\n>     D.  Unimportant\n> \n> **7. Reference:**  The pronoun \"they\" in the sentence \"Their victories over formidable opponents... established them as a dominant force in the region\" refers to:\n>      A.  The Byzantine Empire\n>      B.  The Ottoman Empire\n>      C.  The Mamluks of Egypt\n>      D.  The Turkic tribes of Central Asia\n> \n> **8. Sentence Simplification:**  Simplify the following sentence without losing its meaning: \"The weakening of the Ottoman military, the growth of nationalism among its diverse populations, and the emergence of new technological advancements in Europe all contributed to the empire's decline.\"\n>      A. The Ottoman Empire declined because of internal conflicts, nationalism, and European advancements.\n>      B. European technological advancements were the primary reason for the Ottoman Empire's decline. \n>      C. The Ottoman Empire's decline was due to a combination of internal and external factors. \n>      D. The Ottoman Empire was unable to adapt to changing circumstances. \n> \n> **9. Insert Text:**  Which of the following sentences would best fit in the first paragraph of the passage, after the sentence \"Its vast geographical reach, diverse population, and enduring cultural legacy continue to fascinate and inspire scholars and historians alike.\"\n>      A. This essay will explore the history of the Ottoman Empire from its humble beginnings to its eventual demise. \n>      B. The empire's legacy can be traced through its influence on art, architecture, and political thought.\n>      C.  The Ottoman Empire's story is a complex and multifaceted one, encompassing both glory and hardship. \n>      D.  The empire's eventual decline can be attributed to a number of factors, both internal and external. \n> \n> **10. Prose Summary:** Which of the following best summarizes the main point of the passage?\n>      A. The Ottoman Empire was a powerful and influential empire that rose and fell due to its unique cultural heritage.\n>      B. The Ottoman Empire was a complex and dynamic entity that left a lasting legacy on the world stage.\n>      C. The Ottoman Empire's decline was primarily due to the rise of European powers in the 18th and 19th centuries.\n>      D.  The Ottoman Empire's cultural achievements overshadowed its military conquests and political structure. \n"
          },
          "metadata": {},
          "execution_count": 27
        }
      ]
    },
    {
      "cell_type": "markdown",
      "source": [
        "# Step 4: Generate Answers and Explanations of each question\n",
        "\n",
        "    - Use the {generated_text} and {generated_questions} to generate Answers AND Explanations of each question.\n",
        "    - save the generated Answers AND Explanations of each question as {generated_answers_explanations}"
      ],
      "metadata": {
        "id": "ZzWVHtJU3bg4"
      }
    },
    {
      "cell_type": "markdown",
      "source": [
        "### Fine tune Gemini-1.5 model with Question-Explanation dataset on Google AI Studio"
      ],
      "metadata": {
        "id": "15eu8GGzatwb"
      }
    },
    {
      "cell_type": "code",
      "source": [
        "model3 = genai.GenerativeModel(\"tunedModels/questionexplanation-bmsqw4oa8ml2\")"
      ],
      "metadata": {
        "id": "sqn1vmoebAJE"
      },
      "execution_count": 23,
      "outputs": []
    },
    {
      "cell_type": "code",
      "source": [
        "%%time\n",
        "\n",
        "prompt3 = f\"\"\"\n",
        "Use the {generated_text} and {generated_questions} to generate Answers AND Explanations of each question.\n",
        "\n",
        "### Sample:\n",
        "text:\n",
        "THE ORIGINS OF CETACEANS\n",
        "It should be obvious that cetaceans—whales, porpoises, and dolphins—are mammals...\n",
        "...\n",
        "(This sample text can continue for any necessary context in the same format as you had above)\n",
        "\n",
        "questions:\n",
        " 1. According to the passage, all of the following were effects of the Industrial Revolution EXCEPT:\n",
        " A. Increased rural population\n",
        " B. Urbanization\n",
        " C. Poor living conditions in cities\n",
        " D. Technological advancements\n",
        "...\n",
        "(Make sure this continues with all the questions you’d like as part of the sample for formatting guidance)\n",
        "\n",
        "explanations and answers:\n",
        "Explanation: The passage explicitly states that the Industrial Revolution led to urbanization and technological advancements. It also mentions the negative consequences of rapid urbanization, such as overcrowding and poor living conditions. However, it does not mention an increase in rural population. In fact, the opposite occurred as people migrated from rural areas to urban centers.\n",
        "Answer: A\n",
        "\n",
        "###Output:\n",
        "text: {generated_text}\n",
        "questions: {generated_questions}\n",
        "explanations and answers:\n",
        "\n",
        "\"\"\"\n",
        "\n",
        "response2 = model3.generate_content(prompt3)\n",
        "generated_explanations_answers = response2.text\n",
        "to_markdown(generated_explanations_answers)\n"
      ],
      "metadata": {
        "colab": {
          "base_uri": "https://localhost:8080/",
          "height": 190
        },
        "id": "mw9pH7Ggrj0V",
        "outputId": "2b8bdff2-fdc4-42f1-ddee-c15288062e30"
      },
      "execution_count": 25,
      "outputs": [
        {
          "output_type": "stream",
          "name": "stdout",
          "text": [
            "CPU times: user 108 ms, sys: 11.9 ms, total: 120 ms\n",
            "Wall time: 6.13 s\n"
          ]
        },
        {
          "output_type": "execute_result",
          "data": {
            "text/plain": [
              "<IPython.core.display.Markdown object>"
            ],
            "text/markdown": "> Explanation: The passage highlights the Ottoman Empire's significant contributions to mathematics, astronomy, and medicine. It mentions the patronage of arts and sciences by Ottoman rulers, leading to advancements in these fields. While the passage does not explicitly state that the Ottomans made groundbreaking discoveries, it implies that they made notable contributions to scientific knowledge.\n> \n> Answer: True"
          },
          "metadata": {},
          "execution_count": 25
        }
      ]
    },
    {
      "cell_type": "markdown",
      "source": [
        "! model3 = tunedModels/questionexplanation-bmsqw4oa8ml2 başarısız oldu.\n",
        "\n",
        "Bu nedenle model = genai.GenerativeModel(\"gemini-1.5-flash\") ile Question Generation yapıldı."
      ],
      "metadata": {
        "id": "VqipSNN3ebD4"
      }
    },
    {
      "cell_type": "code",
      "source": [
        "%%time\n",
        "\n",
        "prompt3 = f\"\"\"\n",
        "Use the {generated_text} and {generated_questions} to generate Answers AND Explanations of each question.\n",
        "\n",
        "### Sample:\n",
        "text:\n",
        "THE ORIGINS OF CETACEANS\n",
        "It should be obvious that cetaceans—whales, porpoises, and dolphins—are mammals...\n",
        "...\n",
        "(This sample text can continue for any necessary context in the same format as you had above)\n",
        "\n",
        "questions:\n",
        " 1. According to the passage, all of the following were effects of the Industrial Revolution EXCEPT:\n",
        " A. Increased rural population\n",
        " B. Urbanization\n",
        " C. Poor living conditions in cities\n",
        " D. Technological advancements\n",
        "...\n",
        "(Make sure this continues with all the questions you’d like as part of the sample for formatting guidance)\n",
        "\n",
        "explanations and answers:\n",
        "Explanation: The passage explicitly states that the Industrial Revolution led to urbanization and technological advancements. It also mentions the negative consequences of rapid urbanization, such as overcrowding and poor living conditions. However, it does not mention an increase in rural population. In fact, the opposite occurred as people migrated from rural areas to urban centers.\n",
        "Answer: A\n",
        "\n",
        "###Output:\n",
        "text: {generated_text}\n",
        "questions: {generated_questions}\n",
        "explanations and answers:\n",
        "\n",
        "\"\"\"\n",
        "\n",
        "response2 = model.generate_content(prompt3)\n",
        "generated_explanations_answers = response2.text\n",
        "to_markdown(generated_explanations_answers)\n"
      ],
      "metadata": {
        "colab": {
          "base_uri": "https://localhost:8080/",
          "height": 1000
        },
        "id": "4WpWm-hyfGMn",
        "outputId": "c2f84320-a241-4cbc-df11-71bd7e3b9414"
      },
      "execution_count": 28,
      "outputs": [
        {
          "output_type": "stream",
          "name": "stdout",
          "text": [
            "CPU times: user 105 ms, sys: 9.8 ms, total: 115 ms\n",
            "Wall time: 6.05 s\n"
          ]
        },
        {
          "output_type": "execute_result",
          "data": {
            "text/plain": [
              "<IPython.core.display.Markdown object>"
            ],
            "text/markdown": "> ## Explanations and Answers for TOEFL Reading Questions:\n> \n> **1. Factual Information:** Which of the following is NOT a factor that contributed to the Ottoman Empire's decline in the 18th and 19th centuries?\n>    A. Internal strife\n>    B. Economic prosperity\n>    C. Rise of European powers\n>    D. Weakening of the Ottoman military\n> \n> **Explanation:** The passage explicitly states that the Ottoman Empire faced challenges like \"internal strife, economic stagnation, and the rise of European powers\". It also mentions the weakening of the Ottoman military. Economic prosperity is not listed as a challenge but rather a factor that contributed to the empire's rise.\n> \n> **Answer: B**\n> \n> **2. Factual Information:**  The Ottoman Empire's \"Millet-System\" is best described as:\n>     A. A system of strict religious uniformity enforced by the Sultan.\n>     B. A system of centralized governance that controlled all aspects of life.\n>     C. A system allowing religious communities autonomy in their internal affairs.\n>     D. A system that prioritized military prowess over cultural diversity.\n> \n> **Explanation:**  The passage states that the \"Millet-System\" allowed religious communities like Muslims, Christians, and Jews \"the right to govern their own internal affairs.\" This indicates autonomy for these groups.\n> \n> **Answer: C**\n> \n> **3. Negative Factual Information:** The Ottoman Empire's administrative system was NOT:\n>      A. Flexible\n>      B.  Based on strict religious laws\n>      C.  Effective in integrating diverse populations \n>      D.  Crucial to the Empire's success\n> \n> **Explanation:** The passage highlights the Ottoman system's flexibility and its role in integrating diverse populations. It doesn't mention that the system was based on strict religious laws.\n> \n> **Answer: B**\n> \n> **4. Inference:** What can be inferred about the Ottoman Empire's cultural contributions?\n>     A. They were limited to the realm of architecture.\n>     B. They had a lasting impact on the region's cultural landscape.\n>     C. They were overshadowed by the empire's military achievements.\n>     D. They were solely focused on promoting Islamic arts and sciences.\n> \n> **Explanation:** The passage explicitly states that the Ottoman Empire's cultural contributions left a \"lasting impact on the cultural landscape of the region.\" This implies a significant and enduring influence. \n> \n> **Answer: B**\n> \n> **5. Rhetorical Purpose:** What is the primary purpose of the third paragraph of the passage?\n>     A. To explain the origins of the Ottoman Empire.\n>     B. To highlight the role of military prowess in the empire's rise.\n>     C. To describe the Ottoman Empire's political structure.\n>     D. To analyze the reasons for the empire's decline.\n> \n> **Explanation:** The third paragraph focuses on the Ottoman Empire's military achievements and their role in expanding the empire's territory. \n> \n> **Answer: B**\n> \n> **6. Vocabulary:**  In the context of the passage, what does the word \"indelible\" mean? \n>     A.  Temporary\n>     B.  Changeable\n>     C.  Permanent\n>     D.  Unimportant\n> \n> **Explanation:** \"Indelible\" means something that cannot be erased or forgotten. In the context of the passage, it signifies the lasting impact the Ottoman Empire had on history.\n> \n> **Answer: C**\n> \n> **7. Reference:**  The pronoun \"they\" in the sentence \"Their victories over formidable opponents... established them as a dominant force in the region\" refers to:\n>      A.  The Byzantine Empire\n>      B.  The Ottoman Empire\n>      C.  The Mamluks of Egypt\n>      D.  The Turkic tribes of Central Asia\n> \n> **Explanation:** The sentence discusses the Ottoman Empire's victories.  \"They\" refers to the Ottoman Empire.\n> \n> **Answer: B**\n> \n> **8. Sentence Simplification:**  Simplify the following sentence without losing its meaning: \"The weakening of the Ottoman military, the growth of nationalism among its diverse populations, and the emergence of new technological advancements in Europe all contributed to the empire's decline.\"\n>      A. The Ottoman Empire declined because of internal conflicts, nationalism, and European advancements.\n>      B. European technological advancements were the primary reason for the Ottoman Empire's decline. \n>      C. The Ottoman Empire's decline was due to a combination of internal and external factors. \n>      D. The Ottoman Empire was unable to adapt to changing circumstances. \n> \n> **Explanation:** The sentence lists several factors contributing to the Ottoman Empire's decline.  Option C accurately summarizes the key point –  a combination of internal and external factors.\n> \n> **Answer: C**\n> \n> **9. Insert Text:**  Which of the following sentences would best fit in the first paragraph of the passage, after the sentence \"Its vast geographical reach, diverse population, and enduring cultural legacy continue to fascinate and inspire scholars and historians alike.\"\n>      A. This essay will explore the history of the Ottoman Empire from its humble beginnings to its eventual demise. \n>      B. The empire's legacy can be traced through its influence on art, architecture, and political thought.\n>      C.  The Ottoman Empire's story is a complex and multifaceted one, encompassing both glory and hardship. \n>      D.  The empire's eventual decline can be attributed to a number of factors, both internal and external. \n> \n> **Explanation:** Option C smoothly introduces the essay's focus on the complex history of the Ottoman Empire, including both its successes and failures. It also sets the tone for the exploration of the empire's rise and fall.\n> \n> **Answer: C**\n> \n> **10. Prose Summary:** Which of the following best summarizes the main point of the passage?\n>      A. The Ottoman Empire was a powerful and influential empire that rose and fell due to its unique cultural heritage.\n>      B. The Ottoman Empire was a complex and dynamic entity that left a lasting legacy on the world stage.\n>      C. The Ottoman Empire's decline was primarily due to the rise of European powers in the 18th and 19th centuries.\n>      D.  The Ottoman Empire's cultural achievements overshadowed its military conquests and political structure. \n> \n> **Explanation:** The passage highlights the Ottoman Empire's vast influence, its diverse population, its complex administrative system, and its significant cultural contributions. While it acknowledges the empire's decline, it emphasizes the enduring legacy of this complex and dynamic entity.\n> \n> **Answer: B** \n"
          },
          "metadata": {},
          "execution_count": 28
        }
      ]
    },
    {
      "cell_type": "markdown",
      "source": [
        "# Step 5: Save all outputs in a pdf document\n",
        "\n",
        "    - save all outputs in a pdf document with the order belov:\n",
        "        {generated_text},\n",
        "        {generated_questions},\n",
        "        {generated_explanations_answers},\n",
        "        {question_types_count}"
      ],
      "metadata": {
        "id": "1UwBsv83rk5b"
      }
    },
    {
      "cell_type": "code",
      "source": [
        "!pip install reportlab"
      ],
      "metadata": {
        "colab": {
          "base_uri": "https://localhost:8080/"
        },
        "id": "zyJQY2abp15L",
        "outputId": "3bd326c1-943b-435e-be76-cd0215c06147"
      },
      "execution_count": 46,
      "outputs": [
        {
          "output_type": "stream",
          "name": "stdout",
          "text": [
            "Collecting reportlab\n",
            "  Downloading reportlab-4.2.5-py3-none-any.whl.metadata (1.5 kB)\n",
            "Requirement already satisfied: pillow>=9.0.0 in /usr/local/lib/python3.10/dist-packages (from reportlab) (10.4.0)\n",
            "Requirement already satisfied: chardet in /usr/local/lib/python3.10/dist-packages (from reportlab) (5.2.0)\n",
            "Downloading reportlab-4.2.5-py3-none-any.whl (1.9 MB)\n",
            "\u001b[2K   \u001b[90m━━━━━━━━━━━━━━━━━━━━━━━━━━━━━━━━━━━━━━━━\u001b[0m \u001b[32m1.9/1.9 MB\u001b[0m \u001b[31m20.2 MB/s\u001b[0m eta \u001b[36m0:00:00\u001b[0m\n",
            "\u001b[?25hInstalling collected packages: reportlab\n",
            "Successfully installed reportlab-4.2.5\n"
          ]
        }
      ]
    },
    {
      "cell_type": "code",
      "source": [
        "from reportlab.lib.pagesizes import A4\n",
        "from reportlab.lib import colors\n",
        "from reportlab.platypus import SimpleDocTemplate, Paragraph, Spacer\n",
        "from reportlab.lib.styles import getSampleStyleSheet\n",
        "\n",
        "# Save the output PDF file\n",
        "pdf_path = \"TOEFL_Reading_Content.pdf\"\n",
        "doc = SimpleDocTemplate(pdf_path, pagesize=A4)\n",
        "\n",
        "# Define styles\n",
        "styles = getSampleStyleSheet()\n",
        "style_heading = styles['Heading1']\n",
        "style_text = styles['BodyText']\n",
        "\n",
        "# Add content to the document\n",
        "content = []\n",
        "\n",
        "# Add generated text\n",
        "content.append(Paragraph(\"TOEFL Reading Text:\", style_heading))\n",
        "content.append(Paragraph(generated_text, style_text))\n",
        "content.append(Spacer(1, 12))\n",
        "\n",
        "# Add generated questions\n",
        "content.append(Paragraph(\"TOEFL Reading Questions:\", style_heading))\n",
        "for question in generated_questions.split('\\n'):\n",
        "    content.append(Paragraph(question, style_text))\n",
        "content.append(Spacer(1, 12))\n",
        "\n",
        "# Add explanations and answers\n",
        "content.append(Paragraph(\"Answers and Explanations:\", style_heading))\n",
        "for explanation in generated_explanations_answers.split('\\n'):\n",
        "    content.append(Paragraph(explanation, style_text))\n",
        "content.append(Spacer(1, 12))\n",
        "\n",
        "# Add question types count\n",
        "content.append(Paragraph(\"Question Types Count:\", style_heading))\n",
        "for qtype, count in question_types_count.items():\n",
        "    content.append(Paragraph(f\"{qtype}: {count}\", style_text))\n",
        "\n",
        "# Build PDF\n",
        "doc.build(content)\n",
        "print(f\"PDF saved at: {pdf_path}\")\n"
      ],
      "metadata": {
        "colab": {
          "base_uri": "https://localhost:8080/",
          "height": 211
        },
        "id": "5h1mGN0DrPVY",
        "outputId": "e55ee028-d4a6-4ec2-8712-02aca980de78"
      },
      "execution_count": 52,
      "outputs": [
        {
          "output_type": "error",
          "ename": "AttributeError",
          "evalue": "'Markdown' object has no attribute 'split'",
          "traceback": [
            "\u001b[0;31m---------------------------------------------------------------------------\u001b[0m",
            "\u001b[0;31mAttributeError\u001b[0m                            Traceback (most recent call last)",
            "\u001b[0;32m<ipython-input-52-0e83fd35be74>\u001b[0m in \u001b[0;36m<cell line: 20>\u001b[0;34m()\u001b[0m\n\u001b[1;32m     18\u001b[0m \u001b[0;31m# Add generated text\u001b[0m\u001b[0;34m\u001b[0m\u001b[0;34m\u001b[0m\u001b[0m\n\u001b[1;32m     19\u001b[0m \u001b[0mcontent\u001b[0m\u001b[0;34m.\u001b[0m\u001b[0mappend\u001b[0m\u001b[0;34m(\u001b[0m\u001b[0mParagraph\u001b[0m\u001b[0;34m(\u001b[0m\u001b[0;34m\"TOEFL Reading Text:\"\u001b[0m\u001b[0;34m,\u001b[0m \u001b[0mstyle_heading\u001b[0m\u001b[0;34m)\u001b[0m\u001b[0;34m)\u001b[0m\u001b[0;34m\u001b[0m\u001b[0;34m\u001b[0m\u001b[0m\n\u001b[0;32m---> 20\u001b[0;31m \u001b[0mcontent\u001b[0m\u001b[0;34m.\u001b[0m\u001b[0mappend\u001b[0m\u001b[0;34m(\u001b[0m\u001b[0mParagraph\u001b[0m\u001b[0;34m(\u001b[0m\u001b[0mgenerated_text\u001b[0m\u001b[0;34m.\u001b[0m\u001b[0msplit\u001b[0m\u001b[0;34m(\u001b[0m\u001b[0;34m'\\n'\u001b[0m\u001b[0;34m)\u001b[0m\u001b[0;34m,\u001b[0m \u001b[0mstyle_text\u001b[0m\u001b[0;34m)\u001b[0m\u001b[0;34m)\u001b[0m\u001b[0;34m\u001b[0m\u001b[0;34m\u001b[0m\u001b[0m\n\u001b[0m\u001b[1;32m     21\u001b[0m \u001b[0mcontent\u001b[0m\u001b[0;34m.\u001b[0m\u001b[0mappend\u001b[0m\u001b[0;34m(\u001b[0m\u001b[0mSpacer\u001b[0m\u001b[0;34m(\u001b[0m\u001b[0;36m1\u001b[0m\u001b[0;34m,\u001b[0m \u001b[0;36m12\u001b[0m\u001b[0;34m)\u001b[0m\u001b[0;34m)\u001b[0m\u001b[0;34m\u001b[0m\u001b[0;34m\u001b[0m\u001b[0m\n\u001b[1;32m     22\u001b[0m \u001b[0;34m\u001b[0m\u001b[0m\n",
            "\u001b[0;31mAttributeError\u001b[0m: 'Markdown' object has no attribute 'split'"
          ]
        }
      ]
    },
    {
      "cell_type": "code",
      "source": [
        "from reportlab.lib.pagesizes import A4\n",
        "from reportlab.lib import colors\n",
        "from reportlab.platypus import SimpleDocTemplate, Paragraph, Spacer\n",
        "from reportlab.lib.styles import getSampleStyleSheet\n",
        "\n",
        "# Save the output PDF file\n",
        "pdf_path = \"TOEFL_Reading_Content.pdf\"\n",
        "doc = SimpleDocTemplate(pdf_path, pagesize=A4)\n",
        "\n",
        "# Define styles\n",
        "styles = getSampleStyleSheet()\n",
        "style_heading = styles['Heading1']\n",
        "style_text = styles['BodyText']\n",
        "\n",
        "# Add content to the document\n",
        "content = []\n",
        "\n",
        "# Ensure that generated_text is a string\n",
        "if hasattr(generated_text, 'content'):\n",
        "    generated_text_str = generated_text.content  # If it's a Markdown object\n",
        "else:\n",
        "    generated_text_str = str(generated_text)  # Fallback to string conversion\n",
        "\n",
        "# Add generated text\n",
        "content.append(Paragraph(\"TOEFL Reading Text:\", style_heading))\n",
        "content.append(Paragraph(generated_text_str, style_text))\n",
        "content.append(Spacer(1, 12))\n",
        "\n",
        "# Ensure generated_questions is a string\n",
        "if hasattr(generated_questions, 'content'):\n",
        "    generated_questions_str = generated_questions.content  # If it's a Markdown object\n",
        "else:\n",
        "    generated_questions_str = str(generated_questions)  # Fallback to string conversion\n",
        "\n",
        "# Add generated questions\n",
        "content.append(Paragraph(\"TOEFL Reading Questions:\", style_heading))\n",
        "for question in generated_questions_str.split('\\n'):\n",
        "    content.append(Paragraph(question, style_text))\n",
        "content.append(Spacer(1, 12))\n",
        "\n",
        "# Ensure generated_explanations_answers is a string\n",
        "if hasattr(generated_explanations_answers, 'content'):\n",
        "    generated_explanations_answers_str = generated_explanations_answers.content  # If it's a Markdown object\n",
        "else:\n",
        "    generated_explanations_answers_str = str(generated_explanations_answers)  # Fallback to string conversion\n",
        "\n",
        "# Add explanations and answers\n",
        "content.append(Paragraph(\"Answers and Explanations:\", style_heading))\n",
        "for explanation in generated_explanations_answers_str.split('\\n'):\n",
        "    content.append(Paragraph(explanation, style_text))\n",
        "content.append(Spacer(1, 12))\n",
        "\n",
        "# Add question types count\n",
        "content.append(Paragraph(\"Question Types Count:\", style_heading))\n",
        "for qtype, count in question_types_count.items():\n",
        "    content.append(Paragraph(f\"{qtype}: {count}\", style_text))\n",
        "\n",
        "# Build PDF\n",
        "doc.build(content)\n",
        "print(f\"PDF saved at: {pdf_path}\")\n"
      ],
      "metadata": {
        "colab": {
          "base_uri": "https://localhost:8080/"
        },
        "id": "aVGb6AvQt3mx",
        "outputId": "83cce5d0-831c-4399-fa53-6c94092f09d3"
      },
      "execution_count": 55,
      "outputs": [
        {
          "output_type": "stream",
          "name": "stdout",
          "text": [
            "PDF saved at: TOEFL_Reading_Content.pdf\n"
          ]
        }
      ]
    }
  ]
}