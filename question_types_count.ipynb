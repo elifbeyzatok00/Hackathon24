{
 "cells": [
  {
   "cell_type": "markdown",
   "metadata": {},
   "source": [
    "# Step 3: - Take amount of the question types from user\n",
    "\n",
    "\t\tThere are 10 types in TOEFL Reading Question Types.\n",
    "\n",
    "\t\tBasic Information and Inferencing questions:\n",
    " \t\t\t1. Factual Information questions (2 to 5 questions per set)\n",
    " \t\t\t2. Negative Factual Information questions (0 to 2 questions per set)\n",
    " \t\t\t3. Inference questions (1 to 2 questions per set)\n",
    " \t\t\t4. Rhetorical Purpose questions (1 to 2 questions per set)\n",
    " \t\t\t5. Vocabulary questions (1 to 2 questions per set)\n",
    " \t\t\t6. Reference questions (0 to 2 questions per set)\n",
    " \t\t\t7. Sentence Simplification question (0 or 1 question per set)\n",
    " \t\t\t8. Insert Text question (1 question per set)\n",
    " \t\tReading to Learn questions (1 per set):\n",
    "\t\t\t9. Prose Summary\n",
    " \t\t\t10. Fill in a Table"
   ]
  },
  {
   "cell_type": "code",
   "execution_count": 12,
   "metadata": {},
   "outputs": [
    {
     "name": "stdout",
     "output_type": "stream",
     "text": [
      "Question types and counts: {'Factual Information': 2, 'Negative Factual Information': 0, 'Inference': 1, 'Rhetorical Purpose': 2, 'Vocabulary': 1, 'Reference': 1, 'Sentence Simplification': 1, 'Insert Text': 1, 'Prose Summary': 1, 'Fill in a Table': 0}\n"
     ]
    }
   ],
   "source": [
    "# Initialize counters and remaining questions\n",
    "counter = 0\n",
    "number_of_remaining_questions = 10\n",
    "\n",
    "# Fixed question\n",
    "insert_text_question = 1\n",
    "counter += insert_text_question\n",
    "number_of_remaining_questions -= insert_text_question\n",
    "\n",
    "# Prose Summary or Fill in a Table\n",
    "prose_summary, fill_in_a_table = 0, 0\n",
    "prose_summary_OR_fill_in_a_table = input(f\"(Number of remaining questions {number_of_remaining_questions}.) Prose Summary or Fill in a Table question (only one of the two question types for each set). Please write either 'p' for Prose Summary or 'f' for Fill in a Table: \")\n",
    "if prose_summary_OR_fill_in_a_table == \"p\":\n",
    "    prose_summary = 1\n",
    "    fill_in_a_table = 0\n",
    "elif prose_summary_OR_fill_in_a_table == \"f\":\n",
    "    prose_summary = 0\n",
    "    fill_in_a_table = 1\n",
    "counter += prose_summary + fill_in_a_table\n",
    "number_of_remaining_questions -= 1\n",
    "\n",
    "# Collect and validate input for each question type\n",
    "factual_information_questions = int(input(f\"(Number of remaining questions {number_of_remaining_questions}.) Factual Information questions (2 to 5 questions per set). Please write a number from 2 to 5: \"))\n",
    "counter += factual_information_questions\n",
    "number_of_remaining_questions -= factual_information_questions\n",
    "\n",
    "negative_factual_information_questions = int(input(f\"(Number of remaining questions {number_of_remaining_questions}.) Negative Factual Information questions (0 to 2 questions per set). Please write a number from 0 to 2: \"))\n",
    "counter += negative_factual_information_questions\n",
    "number_of_remaining_questions -= negative_factual_information_questions\n",
    "\n",
    "inference_questions = int(input(f\"(Number of remaining questions {number_of_remaining_questions}.) Inference questions (1 to 2 questions per set). Please write a number from 1 to 2: \"))\n",
    "counter += inference_questions\n",
    "number_of_remaining_questions -= inference_questions\n",
    "\n",
    "rhetorical_purpose_questions = int(input(f\"(Number of remaining questions {number_of_remaining_questions}.) Rhetorical Purpose questions (1 to 2 questions per set). Please write a number from 1 to 2: \"))\n",
    "counter += rhetorical_purpose_questions\n",
    "number_of_remaining_questions -= rhetorical_purpose_questions\n",
    "\n",
    "vocabulary_questions = int(input(f\"(Number of remaining questions {number_of_remaining_questions}.) Vocabulary questions (1 to 2 questions per set). Please write a number from 1 to 2: \"))\n",
    "counter += vocabulary_questions\n",
    "number_of_remaining_questions -= vocabulary_questions\n",
    "\n",
    "reference_questions = int(input(f\"(Number of remaining questions {number_of_remaining_questions}.) Reference questions (0 to 2 questions per set). Please write a number from 0 to 2: \"))\n",
    "counter += reference_questions\n",
    "number_of_remaining_questions -= reference_questions\n",
    "\n",
    "sentence_simplification_question = int(input(f\"(Number of remaining questions {number_of_remaining_questions}.) Sentence Simplification question (0 or 1 question per set). Please write a number from 0 to 1: \"))\n",
    "counter += sentence_simplification_question\n",
    "number_of_remaining_questions -= sentence_simplification_question\n",
    "\n",
    "\n",
    "# Validate total question count\n",
    "if counter == 10:\n",
    "    question_types_count = {\n",
    "        \"Factual Information\": factual_information_questions,\n",
    "        \"Negative Factual Information\": negative_factual_information_questions,\n",
    "        \"Inference\": inference_questions,\n",
    "        \"Rhetorical Purpose\": rhetorical_purpose_questions,\n",
    "        \"Vocabulary\": vocabulary_questions,\n",
    "        \"Reference\": reference_questions,\n",
    "        \"Sentence Simplification\": sentence_simplification_question,\n",
    "        \"Insert Text\": insert_text_question,\n",
    "        \"Prose Summary\": prose_summary,\n",
    "        \"Fill in a Table\": fill_in_a_table\n",
    "    }\n",
    "    print(\"Question types and counts:\", question_types_count)\n",
    "else:\n",
    "    print(f\"Total question count must be 10. But you chose {counter}. Please revise your choices to reach a total of 10 questions.\")\n"
   ]
  }
 ],
 "metadata": {
  "kernelspec": {
   "display_name": "Python 3",
   "language": "python",
   "name": "python3"
  },
  "language_info": {
   "codemirror_mode": {
    "name": "ipython",
    "version": 3
   },
   "file_extension": ".py",
   "mimetype": "text/x-python",
   "name": "python",
   "nbconvert_exporter": "python",
   "pygments_lexer": "ipython3",
   "version": "3.11.2"
  }
 },
 "nbformat": 4,
 "nbformat_minor": 2
}
